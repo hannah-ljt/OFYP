{
 "cells": [
  {
   "cell_type": "code",
   "execution_count": 1,
   "id": "6989c6e6-0cdf-4050-8d00-1800dc82cad5",
   "metadata": {},
   "outputs": [],
   "source": [
    "import numpy as np\n",
    "import matplotlib.pyplot as plt"
   ]
  },
  {
   "cell_type": "code",
   "execution_count": 2,
   "id": "50b8478d-d630-470d-92dd-32190cea02c5",
   "metadata": {},
   "outputs": [],
   "source": [
    "# Time steps\n",
    "N = 50\n",
    "T_trans = 20\n",
    "T_avg = 150\n",
    "\n",
    "# Mackey Glass constants\n",
    "a = 0.2\n",
    "b = 0.1\n",
    "n = 10\n",
    "tau = 17\n",
    "\n",
    "# Discretisation\n",
    "h = tau/(N-1)"
   ]
  },
  {
   "cell_type": "code",
   "execution_count": 3,
   "id": "10f18c0b-1471-422c-8453-f03c10ab08e2",
   "metadata": {},
   "outputs": [],
   "source": [
    "def mackeyglass(x, x_lag):\n",
    "    dxdt = (a * x_lag) / (1 + x_lag**n) - b * x\n",
    "    return dxdt\n",
    "\n",
    "def partialF_partialx(x):\n",
    "    return -b\n",
    "\n",
    "def partialF_partialxlag(x_lag):\n",
    "    return -a * n * x_lag**n * (1 + x_lag**n)**(-2) + a * (1 + x_lag**n)**(-1)\n",
    "\n",
    "def iter_rk4(x_prev, x_lag, f):   # for single variable \n",
    "    \n",
    "    z1 = x_prev\n",
    "    z2 = x_prev + (h/2)*f(z1, x_lag)\n",
    "    z3 = x_prev + (h/2)*f(z2, x_lag)\n",
    "    z4 = x_prev + h*f(z3, x_lag)\n",
    "    \n",
    "    z = (h/6)*(f(z1, x_lag) + 2*f(z2, x_lag) + 2*f(z3, x_lag) + f(z4, x_lag))\n",
    "    x_curr = x_prev + z\n",
    "    \n",
    "    return x_curr\n",
    "\n",
    "def euler(x_prev, x_lag, f):\n",
    "    return x_prev + h*f(x_prev, x_lag)\n",
    "\n",
    "def gram_schmidt(dx):   # matrix with vectors stored as columns\n",
    "    alpha = np.zeros(shape=(N,))\n",
    "    for j in range(N):\n",
    "        for s in range(j):\n",
    "            dx[: , j] = dx[: , j] - np.dot(dx[: , s], dx[: , j]) * dx[: , s]\n",
    "        alpha[j] = np.linalg.norm(dx[: , j])\n",
    "        dx[:, j] = dx[: , j] / alpha[j]\n",
    "    return dx, alpha"
   ]
  },
  {
   "cell_type": "code",
   "execution_count": 4,
   "id": "e18827fa-26b4-46c4-8127-dc05f32c8735",
   "metadata": {},
   "outputs": [],
   "source": [
    "deltas = 10**(-6) * np.ones(shape=(N,N)) #* np.random.uniform(low=0, high=1, size=(N,N))\n",
    "x0 = 1.2\n",
    "\n",
    "np.savetxt('deltas', deltas)\n",
    "\n",
    "Lambda = np.zeros(shape=(N,))\n",
    "dx = deltas + np.identity(N)\n",
    "x = x0 * np.ones(shape=(N,))\n",
    "\n",
    "x_ls = []\n",
    "for k in range(T_trans + T_avg):\n",
    "    \n",
    "    for j in range(N):\n",
    "        # Solving linearised DDE - RK4 for each time step in the kth interval\n",
    "        dx_dot = lambda dx, dx_lag: partialF_partialx(x[N-1])*dx + partialF_partialxlag(x[0])*dx_lag\n",
    "        dx[0, j] = iter_rk4(dx[N-1, j], dx[0, j], dx_dot)\n",
    "        for i in range(1, N):\n",
    "            dx_dot = lambda dx, dx_lag: partialF_partialx(x[i-1])*dx + partialF_partialxlag(x[i])*dx_lag\n",
    "            dx[i, j] = iter_rk4(dx[i-1, j], dx[i, j], dx_dot)\n",
    "    \n",
    "    # Solving DDE - RK4 for each time step in the kth interval\n",
    "    x[0] = iter_rk4(x[N-1], x[0], mackeyglass)\n",
    "    for i in range(1,N):\n",
    "        x[i] = iter_rk4(x[i-1], x[i], mackeyglass)\n",
    "        x_ls.append(x[i])\n",
    "        \n",
    "    # Orthonormalise to get dx = orthonormalised vectors, alpha = length of vectors\n",
    "    dx, alpha = gram_schmidt(dx)\n",
    "    \n",
    "    if k > T_trans:\n",
    "        Lambda = Lambda + np.log(alpha)        \n",
    "\n",
    "Lambda = Lambda/(T_avg*tau)"
   ]
  },
  {
   "cell_type": "code",
   "execution_count": 5,
   "id": "9a02cc99-33ac-40a8-9a81-29b375863971",
   "metadata": {},
   "outputs": [
    {
     "data": {
      "text/plain": [
       "array([ 0.00597657,  0.00045548, -0.03876146, -0.04988842, -0.07240083,\n",
       "       -0.08741687, -0.09896995, -0.10557035, -0.11881322, -0.12170615,\n",
       "       -0.12961377, -0.13222822, -0.14107948, -0.1434464 , -0.14714577,\n",
       "       -0.15353482, -0.15413836, -0.15858067, -0.16200174, -0.1636146 ,\n",
       "       -0.16761156, -0.17024309, -0.17229583, -0.1738435 , -0.17668117,\n",
       "       -0.17858795, -0.17908252, -0.18225702, -0.18501348, -0.18333967,\n",
       "       -0.18605884, -0.18626624, -0.18687093, -0.18803916, -0.19044883,\n",
       "       -0.19076442, -0.19142873, -0.19278578, -0.19291074, -0.19453316,\n",
       "       -0.19453203, -0.19408676, -0.19550697, -0.19721576, -0.19685972,\n",
       "       -0.19727427, -0.19750051, -0.19905745, -0.19932915, -0.20025058])"
      ]
     },
     "execution_count": 5,
     "metadata": {},
     "output_type": "execute_result"
    }
   ],
   "source": [
    "Lambda"
   ]
  },
  {
   "cell_type": "code",
   "execution_count": 6,
   "id": "82076177-36c1-4950-90c1-660b58a47358",
   "metadata": {},
   "outputs": [],
   "source": [
    "# Kaplan-Yorke dimension\n",
    "\n",
    "Lambda_sorted = sorted(Lambda, reverse=True)\n",
    "\n",
    "sum_Lambda = 0\n",
    "\n",
    "D_KY = 0\n",
    "\n",
    "for Lambda_id in range(0, len(Lambda_sorted)):\n",
    "    sum_Lambda = sum_Lambda + Lambda_sorted[Lambda_id]\n",
    "    if sum_Lambda < 0:\n",
    "        D_KY = Lambda_id - 1 - ((sum_Lambda - Lambda_sorted[Lambda_id])/Lambda_sorted[Lambda_id])\n",
    "        break\n",
    "        \n",
    "D_KY = D_KY + 1"
   ]
  },
  {
   "cell_type": "code",
   "execution_count": 7,
   "id": "785b2229-dab7-4d1d-a62f-52b558897aeb",
   "metadata": {},
   "outputs": [
    {
     "data": {
      "text/plain": [
       "2.165939376422042"
      ]
     },
     "execution_count": 7,
     "metadata": {},
     "output_type": "execute_result"
    }
   ],
   "source": [
    "D_KY"
   ]
  },
  {
   "cell_type": "code",
   "execution_count": 8,
   "id": "312b185b-70ba-47ca-9c98-2b67b9135faf",
   "metadata": {},
   "outputs": [],
   "source": [
    "np.savetxt('Lambda_MGactual', Lambda_sorted)"
   ]
  }
 ],
 "metadata": {
  "kernelspec": {
   "display_name": "Python 3 (ipykernel)",
   "language": "python",
   "name": "python3"
  },
  "language_info": {
   "codemirror_mode": {
    "name": "ipython",
    "version": 3
   },
   "file_extension": ".py",
   "mimetype": "text/x-python",
   "name": "python",
   "nbconvert_exporter": "python",
   "pygments_lexer": "ipython3",
   "version": "3.8.9"
  }
 },
 "nbformat": 4,
 "nbformat_minor": 5
}
