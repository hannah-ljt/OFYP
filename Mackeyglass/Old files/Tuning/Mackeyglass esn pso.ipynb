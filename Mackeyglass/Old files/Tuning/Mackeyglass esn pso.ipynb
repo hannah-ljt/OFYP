{
 "cells": [
  {
   "cell_type": "code",
   "execution_count": 1,
   "id": "01d54334-d209-4dc3-bcdc-379d5883f262",
   "metadata": {},
   "outputs": [],
   "source": [
    "import scipy.io\n",
    "import numpy as np\n",
    "import pandas as pd\n",
    "import matplotlib.pyplot as plt\n",
    "import pyswarms as ps\n",
    "\n",
    "# load data from matlab file mackeyglass time series\n",
    "loaded_mat = scipy.io.loadmat('MGTimeseries_dde23_tau17.mat')\n",
    "data_tau17 = loaded_mat['MGseries_dde23_tau17'][0]\n",
    "data_tau50 = loaded_mat['MGseries_dde23_tau50'][0]\n",
    "\n",
    "# clean dataset\n",
    "data = pd.DataFrame({'tau17': data_tau17}) # use tau=17 first\n",
    "data.index = data.index + 1"
   ]
  },
  {
   "cell_type": "code",
   "execution_count": 2,
   "id": "c84227af-9484-4c94-b538-8270d01d1c33",
   "metadata": {},
   "outputs": [],
   "source": [
    "# split data set\n",
    "training_data = data.loc[1:3001]\n",
    "testing_data = data.loc[3002:]"
   ]
  },
  {
   "cell_type": "code",
   "execution_count": 3,
   "id": "168def7c-39da-4ae9-8079-021e3903e8be",
   "metadata": {},
   "outputs": [],
   "source": [
    "dummy_data_train = data.loc[1:11]\n",
    "dummy_data_test = data.loc[12:20]"
   ]
  },
  {
   "cell_type": "code",
   "execution_count": 4,
   "id": "05e3c9cb-8603-4287-bb50-19fd0f01783a",
   "metadata": {},
   "outputs": [
    {
     "data": {
      "text/html": [
       "<div>\n",
       "<style scoped>\n",
       "    .dataframe tbody tr th:only-of-type {\n",
       "        vertical-align: middle;\n",
       "    }\n",
       "\n",
       "    .dataframe tbody tr th {\n",
       "        vertical-align: top;\n",
       "    }\n",
       "\n",
       "    .dataframe thead th {\n",
       "        text-align: right;\n",
       "    }\n",
       "</style>\n",
       "<table border=\"1\" class=\"dataframe\">\n",
       "  <thead>\n",
       "    <tr style=\"text-align: right;\">\n",
       "      <th></th>\n",
       "      <th>tau17</th>\n",
       "    </tr>\n",
       "  </thead>\n",
       "  <tbody>\n",
       "    <tr>\n",
       "      <th>12</th>\n",
       "      <td>-0.377937</td>\n",
       "    </tr>\n",
       "    <tr>\n",
       "      <th>13</th>\n",
       "      <td>-0.405378</td>\n",
       "    </tr>\n",
       "    <tr>\n",
       "      <th>14</th>\n",
       "      <td>-0.430208</td>\n",
       "    </tr>\n",
       "    <tr>\n",
       "      <th>15</th>\n",
       "      <td>-0.452674</td>\n",
       "    </tr>\n",
       "    <tr>\n",
       "      <th>16</th>\n",
       "      <td>-0.473003</td>\n",
       "    </tr>\n",
       "    <tr>\n",
       "      <th>17</th>\n",
       "      <td>-0.491397</td>\n",
       "    </tr>\n",
       "    <tr>\n",
       "      <th>18</th>\n",
       "      <td>-0.508040</td>\n",
       "    </tr>\n",
       "    <tr>\n",
       "      <th>19</th>\n",
       "      <td>-0.513035</td>\n",
       "    </tr>\n",
       "    <tr>\n",
       "      <th>20</th>\n",
       "      <td>-0.493719</td>\n",
       "    </tr>\n",
       "  </tbody>\n",
       "</table>\n",
       "</div>"
      ],
      "text/plain": [
       "       tau17\n",
       "12 -0.377937\n",
       "13 -0.405378\n",
       "14 -0.430208\n",
       "15 -0.452674\n",
       "16 -0.473003\n",
       "17 -0.491397\n",
       "18 -0.508040\n",
       "19 -0.513035\n",
       "20 -0.493719"
      ]
     },
     "execution_count": 4,
     "metadata": {},
     "output_type": "execute_result"
    }
   ],
   "source": [
    "dummy_data_test"
   ]
  },
  {
   "cell_type": "code",
   "execution_count": 5,
   "id": "c16faab7-5936-474f-8a1a-42c6aa2b919c",
   "metadata": {},
   "outputs": [],
   "source": [
    "N = 10\n",
    "gamma = 1\n",
    "s = 1\n",
    "\n",
    "A = np.random.rand(N,N)\n",
    "C = np.random.rand(N,1)\n",
    "zeta = np.random.rand(N,1)\n",
    "\n",
    "x_0 = np.zeros(shape=(N,1), dtype=float)\n",
    "\n",
    "def sigma(value):\n",
    "    return np.tanh(value)"
   ]
  },
  {
   "cell_type": "code",
   "execution_count": 6,
   "id": "5ea7c2e1-c505-4d99-baf3-d9b5713ff7fe",
   "metadata": {},
   "outputs": [],
   "source": [
    "# choose data set used for training\n",
    "data_train = dummy_data_train\n",
    "data_test = dummy_data_test\n",
    "\n",
    "# esn - state equation\n",
    "def state(x_prev, z_curr):\n",
    "    z_curr = np.atleast_2d(z_curr)\n",
    "    x_curr = sigma(np.matmul(A, x_prev) + gamma*np.matmul(C, z_curr) + s*zeta)\n",
    "    return x_curr\n",
    "\n",
    "# esn - observation equation\n",
    "def observation(x_curr, params):\n",
    "    w = np.array(params[0:N]).reshape(N,1)\n",
    "    a = params[N]\n",
    "    z_next = np.matmul(np.transpose(w), x_curr) + a\n",
    "    return z_next\n",
    "\n",
    "# output error using parameters on data\n",
    "def mse(params):\n",
    "    T = len(data_train)\n",
    "    error = 0\n",
    "    x_prev = x_0\n",
    "    for t in range(1, T):\n",
    "        z_curr = data_train.loc[t]['tau17']\n",
    "        x_curr = state(x_prev, z_curr)\n",
    "        z_next_predict = observation(x_curr, params)[0][0]\n",
    "        z_next_actual = data_train.loc[t+1]['tau17']\n",
    "        error = error + (z_next_actual - z_next_predict)**2\n",
    "        x_prev = x_curr\n",
    "        \n",
    "    return error/(T-1)"
   ]
  },
  {
   "cell_type": "markdown",
   "id": "50551b88-ea1c-4220-8307-7a82f9cd4d8e",
   "metadata": {},
   "source": [
    "#### Particle Swarm Optimisation"
   ]
  },
  {
   "cell_type": "code",
   "execution_count": 7,
   "id": "733f3dbc-3cc7-4304-b3fc-c5bfe02218e0",
   "metadata": {},
   "outputs": [],
   "source": [
    "def swarm_mse(x):\n",
    "    n_particles = x.shape[0]\n",
    "    loss_particles = [mse(x[particle]) for particle in range(n_particles)]\n",
    "    return np.array(loss_particles)"
   ]
  },
  {
   "cell_type": "code",
   "execution_count": 8,
   "id": "024c1fcb-ceab-4978-bbd9-c8d3392da52a",
   "metadata": {},
   "outputs": [
    {
     "name": "stderr",
     "output_type": "stream",
     "text": [
      "2022-01-18 16:08:45,602 - pyswarms.single.global_best - INFO - Optimize for 20 iters with {'c1': 0.5, 'c2': 0.3, 'w': 0.9}\n",
      "pyswarms.single.global_best: 100%|████████████████████████|20/20, best_cost=10.6\n",
      "2022-01-18 16:08:45,824 - pyswarms.single.global_best - INFO - Optimization finished | best cost: 10.600670288981643, best pos: [0.97901416 0.34853969 0.19042067 0.43411414 0.04349583 0.11220759\n",
      " 0.27018933 0.37481411 0.22366188 0.07190196 0.17501316]\n"
     ]
    }
   ],
   "source": [
    "max_bound = np.ones(N+1)\n",
    "min_bound = np.zeros(N+1)\n",
    "bounds = (min_bound, max_bound)\n",
    "\n",
    "options = {'c1': 0.5, 'c2': 0.3, 'w':0.9}\n",
    "dimensions = N+1\n",
    "optimizer = ps.single.GlobalBestPSO(n_particles=10, dimensions=dimensions, options=options, bounds=bounds)\n",
    "cost, pos = optimizer.optimize(swarm_mse, iters=20)"
   ]
  },
  {
   "cell_type": "code",
   "execution_count": 9,
   "id": "8ba05c01-8a03-41fb-975e-cacd089a6e5e",
   "metadata": {},
   "outputs": [],
   "source": [
    "w_best = pos[0:N]\n",
    "a_best = pos[N]"
   ]
  },
  {
   "cell_type": "code",
   "execution_count": 10,
   "id": "201ce870-503f-4474-ad5e-7c38dd91a559",
   "metadata": {},
   "outputs": [
    {
     "name": "stdout",
     "output_type": "stream",
     "text": [
      "13.573166948073192\n"
     ]
    },
    {
     "data": {
      "text/plain": [
       "[<matplotlib.lines.Line2D at 0x124990700>]"
      ]
     },
     "execution_count": 10,
     "metadata": {},
     "output_type": "execute_result"
    },
    {
     "data": {
      "image/png": "[encoded data removed]",
      "text/plain": [
       "<Figure size 432x288 with 1 Axes>"
      ]
     },
     "metadata": {
      "needs_background": "light"
     },
     "output_type": "display_data"
    }
   ],
   "source": [
    "def predict(params):\n",
    "    z_predictions = [data_train.loc[1]['tau17']]\n",
    "    z_actuals = [data_train.loc[1]['tau17']]\n",
    "\n",
    "    T = len(data_train)\n",
    "    T_bar = len(data_test)\n",
    "    x_prev = x_0\n",
    "    \n",
    "    testset_error = 0\n",
    "\n",
    "    for t in range(1, T):\n",
    "        z_curr = data_train.loc[t]['tau17']\n",
    "        x_curr = state(x_prev, z_curr)\n",
    "        z_next_predict = observation(x_curr, params)[0][0]\n",
    "        z_next_actual = data_train.loc[t+1]['tau17']\n",
    "        z_predictions.append(z_next_predict)\n",
    "        z_actuals.append(z_next_actual)\n",
    "        x_prev = x_curr\n",
    "        \n",
    "    for t in range(T+1, T+T_bar+1):\n",
    "        z_curr = z_next_predict\n",
    "        x_curr = state(x_prev, z_curr)\n",
    "        z_next_predict = observation(x_curr, params)[0][0]\n",
    "        z_next_actual = data_test.loc[t]['tau17']\n",
    "        z_predictions.append(z_next_predict)\n",
    "        z_actuals.append(z_next_actual)\n",
    "        testset_error = testset_error + (z_next_actual - z_next_predict)**2\n",
    "        x_prev = x_curr\n",
    "        \n",
    "    return z_predictions, z_actuals, testset_error/T_bar\n",
    "\n",
    "prediction = predict(pos)\n",
    "print(prediction[2])\n",
    "plt.xticks(range(1,len(data_train)+len(data_test)+1,1))\n",
    "plt.plot(range(1,len(data_train)+len(data_test)+1), prediction[0])\n",
    "plt.plot(range(1,len(data_train)+len(data_test)+1), prediction[1])"
   ]
  },
  {
   "cell_type": "code",
   "execution_count": 11,
   "id": "f465c99f-cc83-4e5a-b1cd-23dcf56ba8d0",
   "metadata": {},
   "outputs": [
    {
     "data": {
      "text/plain": [
       "17.7198541674798"
      ]
     },
     "execution_count": 11,
     "metadata": {},
     "output_type": "execute_result"
    }
   ],
   "source": [
    "no_runs = 10\n",
    "best_params = []\n",
    "\n",
    "min_err = np.inf\n",
    "min_err_params = 0\n",
    "\n",
    "for run in range(1, no_runs+1):\n",
    "    params = np.random.rand(N+1,1)\n",
    "    run_error = mse(params)\n",
    "    if run_error < min_err:\n",
    "        min_err = run_error\n",
    "        min_err_params = params\n",
    "        \n",
    "min_err"
   ]
  },
  {
   "cell_type": "code",
   "execution_count": null,
   "id": "1e3b9107-10ae-4d85-bae9-0e5df0152e81",
   "metadata": {},
   "outputs": [],
   "source": []
  }
 ],
 "metadata": {
  "kernelspec": {
   "display_name": "Python 3 (ipykernel)",
   "language": "python",
   "name": "python3"
  },
  "language_info": {
   "codemirror_mode": {
    "name": "ipython",
    "version": 3
   },
   "file_extension": ".py",
   "mimetype": "text/x-python",
   "name": "python",
   "nbconvert_exporter": "python",
   "pygments_lexer": "ipython3",
   "version": "3.8.9"
  }
 },
 "nbformat": 4,
 "nbformat_minor": 5
}
